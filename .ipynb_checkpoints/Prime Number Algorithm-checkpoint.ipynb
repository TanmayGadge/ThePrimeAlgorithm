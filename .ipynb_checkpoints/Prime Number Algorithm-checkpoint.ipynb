{
 "cells": [
  {
   "cell_type": "code",
   "execution_count": 13,
   "metadata": {},
   "outputs": [
    {
     "name": "stdout",
     "output_type": "stream",
     "text": [
      "Enter Number: 997\n",
      "997 is a Prime Number\n"
     ]
    }
   ],
   "source": [
    "number = int(input(\"Enter Number: \"))\n",
    "i = 2\n",
    "determinant = False\n",
    "\n",
    "while(i <  number):\n",
    "    if(number%i == 0):\n",
    "        determinant = True\n",
    "        break\n",
    "    elif(number%i != 0):\n",
    "        i+=1\n",
    "        \n",
    "if(determinant == False):\n",
    "    print(f\"{number} is a Prime Number\")\n",
    "    \n",
    "else:\n",
    "    print(f\"{number} is not a prime number\")"
   ]
  }
 ],
 "metadata": {
  "kernelspec": {
   "display_name": "Python 3",
   "language": "python",
   "name": "python3"
  },
  "language_info": {
   "codemirror_mode": {
    "name": "ipython",
    "version": 3
   },
   "file_extension": ".py",
   "mimetype": "text/x-python",
   "name": "python",
   "nbconvert_exporter": "python",
   "pygments_lexer": "ipython3",
   "version": "3.7.6"
  }
 },
 "nbformat": 4,
 "nbformat_minor": 4
}
